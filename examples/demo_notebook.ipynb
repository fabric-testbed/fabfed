{
 "cells": [
  {
   "cell_type": "code",
   "execution_count": 49,
   "id": "d1dccbae-07e3-45d3-9234-625705cf9b38",
   "metadata": {},
   "outputs": [],
   "source": [
    "import time\n",
    "import demo_utils\n",
    "from importlib import reload\n",
    "reload(demo_utils)\n",
    "from demo_utils import Session, run_job, stop_job"
   ]
  },
  {
   "cell_type": "code",
   "execution_count": 50,
   "id": "dfaf4b54-1bdb-48ac-a1e2-b00437075f77",
   "metadata": {
    "scrolled": true
   },
   "outputs": [
    {
     "data": {
      "application/vnd.jupyter.widget-view+json": {
       "model_id": "0a6fb5858cd74c9189657270b222e2f0",
       "version_major": 2,
       "version_minor": 0
      },
      "text/plain": [
       "Output(layout=Layout(overflow='scroll hidden'))"
      ]
     },
     "metadata": {},
     "output_type": "display_data"
    }
   ],
   "source": [
    "cl_s = Session(\"fabfed workflow -s cl-demo -show\", \"cloudlab/utah\")\n",
    "cl_t = run_job(cl_s)"
   ]
  },
  {
   "cell_type": "code",
   "execution_count": 53,
   "id": "d8fac82f-fc04-4cc8-83a5-99e343b6e26d",
   "metadata": {
    "scrolled": true
   },
   "outputs": [
    {
     "data": {
      "application/vnd.jupyter.widget-view+json": {
       "model_id": "31e86cef87bd4cffa0d5a676b04c80ea",
       "version_major": 2,
       "version_minor": 0
      },
      "text/plain": [
       "Output(layout=Layout(overflow='scroll hidden'))"
      ]
     },
     "metadata": {},
     "output_type": "display_data"
    }
   ],
   "source": [
    "chi_s = Session(\"fabfed workflow -s chi-demo -plan\", \"chameleon\")\n",
    "chi_t = run_job(chi_s)"
   ]
  },
  {
   "cell_type": "code",
   "execution_count": 52,
   "id": "c960ce30-81b8-42b8-9ac2-658328dfa484",
   "metadata": {
    "scrolled": true
   },
   "outputs": [
    {
     "data": {
      "application/vnd.jupyter.widget-view+json": {
       "model_id": "1128bbbf5dfc45ad8e18cfa5130a66c7",
       "version_major": 2,
       "version_minor": 0
      },
      "text/plain": [
       "Output(layout=Layout(overflow='scroll hidden'))"
      ]
     },
     "metadata": {},
     "output_type": "display_data"
    }
   ],
   "source": [
    "aws_s = Session(\"fabfed workflow -s aws-demo -apply\", \"sense-aws\")\n",
    "aws_t = run_job(aws_s)"
   ]
  },
  {
   "cell_type": "code",
   "execution_count": 51,
   "id": "d1afbc60-2572-4b87-b692-5f048ebcaf57",
   "metadata": {
    "scrolled": true
   },
   "outputs": [
    {
     "name": "stdout",
     "output_type": "stream",
     "text": [
      "[2024-05-15 14:39:59,754] INFO: Stopped job\n"
     ]
    }
   ],
   "source": [
    "stop_job(cl_s, cl_t)"
   ]
  },
  {
   "cell_type": "code",
   "execution_count": 53,
   "id": "d2f5b906-9584-4aca-bb49-478c9abb1ad8",
   "metadata": {},
   "outputs": [
    {
     "name": "stdout",
     "output_type": "stream",
     "text": [
      "[2024-05-15 14:40:34,477] INFO: Stopped job\n"
     ]
    }
   ],
   "source": [
    "stop_job(chi_s, chi_t)"
   ]
  },
  {
   "cell_type": "code",
   "execution_count": 52,
   "id": "53b25529-917c-48dd-ad9f-fdc019e3064a",
   "metadata": {},
   "outputs": [
    {
     "name": "stdout",
     "output_type": "stream",
     "text": [
      "[2024-05-15 14:40:31,472] INFO: Stopped job\n"
     ]
    }
   ],
   "source": [
    "stop_job(aws_s, aws_t)"
   ]
  }
 ],
 "metadata": {
  "kernelspec": {
   "display_name": "Python 3 (ipykernel)",
   "language": "python",
   "name": "python3"
  },
  "language_info": {
   "codemirror_mode": {
    "name": "ipython",
    "version": 3
   },
   "file_extension": ".py",
   "mimetype": "text/x-python",
   "name": "python",
   "nbconvert_exporter": "python",
   "pygments_lexer": "ipython3",
   "version": "3.11.2"
  }
 },
 "nbformat": 4,
 "nbformat_minor": 5
}
