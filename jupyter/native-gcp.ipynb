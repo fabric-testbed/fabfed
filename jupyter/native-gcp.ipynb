{
 "cells": [
  {
   "cell_type": "markdown",
   "id": "4ed9aa05-01b2-4a98-9992-acd8f38615e2",
   "metadata": {},
   "source": [
    "# Native GCP + Fabric\n",
    "Stitching native GCP and Fabric resources."
   ]
  },
  {
   "cell_type": "markdown",
   "id": "cfe860e3-340c-4d54-8ce7-c883e00486a1",
   "metadata": {},
   "source": [
    "## Assign session name and .fab path"
   ]
  },
  {
   "cell_type": "code",
   "execution_count": null,
   "id": "d8efd310-300a-4f56-bb26-5431bdec3969",
   "metadata": {},
   "outputs": [],
   "source": [
    "import os\n",
    "\n",
    "session_name = \"native-gcp-lzhang9\"\n",
    "#fab_file_path = os.path.dirname(os.getcwd()) + \"/examples/gcp\"\n",
    "fab_file_path = \"./examples/native-gcp\"\n",
    "\n",
    "print(session_name)\n",
    "print(fab_file_path)"
   ]
  },
  {
   "cell_type": "markdown",
   "id": "1d63bdfb-177e-4dd0-bdfb-091c0f84f476",
   "metadata": {},
   "source": [
    "## Validate .fab files "
   ]
  },
  {
   "cell_type": "code",
   "execution_count": null,
   "id": "72148135-c66f-41ed-9a36-b037c7fbb966",
   "metadata": {},
   "outputs": [],
   "source": [
    "!fabfed workflow -s $session_name -c $fab_file_path -validate"
   ]
  },
  {
   "cell_type": "markdown",
   "id": "2df23e14-492c-44be-9cc8-e4e041f0bead",
   "metadata": {},
   "source": [
    "## Add resources to providers and validate resources"
   ]
  },
  {
   "cell_type": "code",
   "execution_count": null,
   "id": "0aa67fe6-34b4-4a20-b9b3-a5fb6921efd2",
   "metadata": {},
   "outputs": [],
   "source": [
    "!fabfed workflow -s $session_name -c $fab_file_path -plan"
   ]
  },
  {
   "cell_type": "markdown",
   "id": "c29bf401-66d9-4b8b-9c68-fd2ebbd85ee2",
   "metadata": {},
   "source": [
    "## View stitching information"
   ]
  },
  {
   "cell_type": "code",
   "execution_count": null,
   "id": "9d3324c9-004e-4c29-b768-08b2de294ed3",
   "metadata": {},
   "outputs": [],
   "source": [
    "!fabfed workflow -s $session_name -c $fab_file_path -init -summary"
   ]
  },
  {
   "cell_type": "markdown",
   "id": "d19fef3d-2d37-4ffc-8f8f-07446bc5a484",
   "metadata": {},
   "source": [
    "## Create resources"
   ]
  },
  {
   "cell_type": "code",
   "execution_count": null,
   "id": "e5e16ead-338b-4e3c-9e38-61203a2489f4",
   "metadata": {},
   "outputs": [],
   "source": [
    "!fabfed workflow -s $session_name -c $fab_file_path -apply"
   ]
  },
  {
   "cell_type": "markdown",
   "id": "f5a08986-10f1-478d-9460-c0c5c67f23d1",
   "metadata": {},
   "source": [
    "## View the state of the workflow"
   ]
  },
  {
   "cell_type": "code",
   "execution_count": null,
   "id": "1dfdcf82-03c0-42a7-8fd0-78a04ed1e0fe",
   "metadata": {},
   "outputs": [],
   "source": [
    "!fabfed workflow -s $session_name -c $fab_file_path -show"
   ]
  },
  {
   "cell_type": "markdown",
   "id": "ab33e762-ad89-49ce-9b09-ceb79797ec78",
   "metadata": {},
   "source": [
    "## Delete all resources"
   ]
  },
  {
   "cell_type": "code",
   "execution_count": null,
   "id": "57305ac9-fa7e-4578-a200-ecdcb74a2a4c",
   "metadata": {},
   "outputs": [],
   "source": [
    "!fabfed workflow -s $session_name -c $fab_file_path -destroy"
   ]
  },
  {
   "cell_type": "markdown",
   "id": "366bbf7f-4d16-4aa4-8845-18edb4c389a6",
   "metadata": {},
   "source": [
    "## Note: GCP Instance Info\n",
    "- vm-69acc1d9-8c24-47cd-90b8-33be57167dbf---vm-1\n",
    "- Private IPv4 10.100.0.2\n",
    "- Public IPv4 34.150.230.154\n",
    "- ssh -i ~/.fabfed/kp-sense-private kp-sense@34.150.230.154"
   ]
  }
 ],
 "metadata": {
  "kernelspec": {
   "display_name": "Python 3 (ipykernel)",
   "language": "python",
   "name": "python3"
  },
  "language_info": {
   "codemirror_mode": {
    "name": "ipython",
    "version": 3
   },
   "file_extension": ".py",
   "mimetype": "text/x-python",
   "name": "python",
   "nbconvert_exporter": "python",
   "pygments_lexer": "ipython3",
   "version": "3.9.18"
  }
 },
 "nbformat": 4,
 "nbformat_minor": 5
}
