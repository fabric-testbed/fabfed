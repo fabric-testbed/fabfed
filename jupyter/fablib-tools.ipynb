{
 "cells": [
  {
   "cell_type": "markdown",
   "id": "57c387fd-49d1-4d47-ab64-910d94ec0244",
   "metadata": {},
   "source": [
    "# FABLIB Tools\n"
   ]
  },
  {
   "cell_type": "markdown",
   "id": "1c84b882-9d63-4c45-a8ae-5cb22c1191a2",
   "metadata": {},
   "source": [
    "## Import the FABlib Library\n",
    "Chose one of two working enviroments to import FABlib.\n",
    "- fabric-testbed\n",
    "- local host"
   ]
  },
  {
   "cell_type": "markdown",
   "id": "04c03230-61f4-48e5-a5bc-031f494e5c2a",
   "metadata": {},
   "source": [
    "### Environment: Fabric-Testbed"
   ]
  },
  {
   "cell_type": "code",
   "execution_count": null,
   "id": "25e4df8b-4eed-4fdf-b6ac-2a801945b251",
   "metadata": {},
   "outputs": [],
   "source": [
    "from fabrictestbed_extensions.fablib.fablib import FablibManager as fablib_manager\n",
    "import json\n",
    "\n",
    "try:\n",
    "    fablib = fablib_manager()\n",
    "                     \n",
    "    fablib.show_config();\n",
    "except Exception as e:\n",
    "    print(f\"Exception: {e}\")"
   ]
  },
  {
   "cell_type": "markdown",
   "id": "1df07de8-ac57-41da-966f-8865d4cb42e7",
   "metadata": {},
   "source": [
    "### Environment: Local Host"
   ]
  },
  {
   "cell_type": "markdown",
   "id": "07c7fbc9-730c-4cb9-a1b4-03afb1ad5fa8",
   "metadata": {},
   "source": [
    "Get Fabric configuration from FABFED credential file\n",
    "- Set the path to fabfed credential file\n",
    "- Read the fabric configuration from fabfed crential file\n",
    "- Set the path to ssh_config the same as that of the bastion_ssh_key\n",
    "- Generate fabric_rc\n",
    "- Import Fablib"
   ]
  },
  {
   "cell_type": "code",
   "execution_count": null,
   "id": "3dde8e65-5de4-4d47-a9cf-08c09d9f9394",
   "metadata": {},
   "outputs": [],
   "source": [
    "# Path to your YAML file\n",
    "credential_file_path = 'fabfed_config/fabfed_credentials.yml'"
   ]
  },
  {
   "cell_type": "code",
   "execution_count": null,
   "id": "73906428-445a-47d9-850c-859eac86e8d1",
   "metadata": {},
   "outputs": [],
   "source": [
    "import yaml\n",
    "\n",
    "# Read the YAML file\n",
    "with open(credential_file_path, 'r') as file:\n",
    "    try:\n",
    "        yaml_data = yaml.safe_load(file)\n",
    "    except yaml.YAMLError as exc:\n",
    "        print(exc)\n",
    "\n",
    "fabric_config = yaml_data['fabric']\n",
    "\n",
    "def print_dict(dictionary, indent=0):\n",
    "    for key, value in dictionary.items():\n",
    "        if isinstance(value, dict):\n",
    "            print('  ' * indent + str(key) + ':')\n",
    "            print_dict(value, indent + 1)\n",
    "        else:\n",
    "            print('  ' * indent + str(key) + ': ' + str(value))\n",
    "            \n",
    "print_dict(fabric_config)"
   ]
  },
  {
   "cell_type": "code",
   "execution_count": null,
   "id": "5a87ec9b-5c69-4b61-b7e6-c6d78355fbfe",
   "metadata": {},
   "outputs": [],
   "source": [
    "import os\n",
    "\n",
    "home_directory = os.path.expanduser(\"~\")\n",
    "print(\"Home directory:\", home_directory)\n",
    "\n",
    "bastion_ssh_config_file = os.path.dirname(fabric_config['bastion-key-location']) + \"/ssh_config\"\n",
    "print(f\"ssh_config path: {bastion_ssh_config_file}\")"
   ]
  },
  {
   "cell_type": "code",
   "execution_count": null,
   "id": "60790e7d-245a-416a-bcee-0ed3d5c49306",
   "metadata": {},
   "outputs": [],
   "source": [
    "# Data to write to the file\n",
    "data = f\"\"\"\n",
    "export FABRIC_CREDMGR_HOST=cm.fabric-testbed.net\n",
    "export FABRIC_ORCHESTRATOR_HOST=orchestrator.fabric-testbed.net\n",
    "export FABRIC_PROJECT_ID={fabric_config['project_id']}\n",
    "export FABRIC_TOKEN_LOCATION={fabric_config['token-location']}\n",
    "\n",
    "export FABRIC_BASTION_HOST=bastion.fabric-testbed.net\n",
    "export FABRIC_BASTION_USERNAME={fabric_config['bastion-user-name']}\n",
    "\n",
    "export FABRIC_BASTION_KEY_LOCATION={fabric_config['bastion-key-location']}\n",
    "#export FABRIC_BASTION_KEY_PASSPHRASE=\n",
    "\n",
    "export FABRIC_BASTION_SSH_CONFIG_FILE={bastion_ssh_config_file}\n",
    "\n",
    "export FABRIC_SLICE_PRIVATE_KEY_FILE={fabric_config['slice-private-key-location']}\n",
    "export FABRIC_SLICE_PUBLIC_KEY_FILE={fabric_config['slice-public-key-location']} \n",
    "#export FABRIC_SLICE_PRIVATE_KEY_PASSPHRASE=\n",
    "\n",
    "export FABRIC_LOG_FILE={home_directory}/fablib.log\n",
    "export FABRIC_LOG_LEVEL=INFO \n",
    "\n",
    "export FABRIC_AVOID=''\n",
    "\n",
    "export FABRIC_SSH_COMMAND_LINE=\"ssh -i {{ _self_.private_ssh_key_file }} -F {bastion_ssh_config_file} {{ _self_.username }}@{{ _self_.management_ip }}\"\n",
    "\"\"\"\n",
    "\n",
    "# Specify the file path\n",
    "fabric_rc_file = \"./fabric_config/fabric_rc\"\n",
    "\n",
    "# Delete if it exists\n",
    "if os.path.exists(fabric_rc_file):\n",
    "    # Delete the file\n",
    "    os.remove(fabric_rc_file)\n",
    "    \n",
    "# Open the file in write mode\n",
    "with open(fabric_rc_file, \"w\") as file:\n",
    "    # Write the data to the file\n",
    "    file.write(data)\n",
    "\n",
    "print(\"Data has been written to\", fabric_rc_file)\n"
   ]
  },
  {
   "cell_type": "code",
   "execution_count": null,
   "id": "2714cb84-3915-4272-9e43-f8eac4d06994",
   "metadata": {},
   "outputs": [],
   "source": [
    "from fabrictestbed_extensions.fablib.fablib import FablibManager as fablib_manager\n",
    "import json\n",
    "\n",
    "try:\n",
    "    fablib = fablib_manager(fabric_rc=fabric_rc_file)\n",
    "                     \n",
    "    fablib.show_config();\n",
    "except Exception as e:\n",
    "    print(f\"Exception: {e}\")"
   ]
  },
  {
   "cell_type": "markdown",
   "id": "5895ddb9-1a78-4efc-a700-5cdd0a191ca6",
   "metadata": {},
   "source": [
    "## Show Slice Information"
   ]
  },
  {
   "cell_type": "markdown",
   "id": "cf501be0-3613-4217-81a7-e4b6011c9222",
   "metadata": {},
   "source": [
    "### List all slices"
   ]
  },
  {
   "cell_type": "code",
   "execution_count": null,
   "id": "0efa1db9-151f-42b8-be43-411405e667c1",
   "metadata": {},
   "outputs": [],
   "source": [
    "fablib.list_slices()"
   ]
  },
  {
   "cell_type": "markdown",
   "id": "fbf13418-e0e7-414e-9aea-56b81bc7f567",
   "metadata": {},
   "source": [
    "### Show specific slice"
   ]
  },
  {
   "cell_type": "markdown",
   "id": "d6a6e4a0-f10f-4723-9330-34f1e6724b43",
   "metadata": {},
   "source": [
    "Observe the specific slice's attributes"
   ]
  },
  {
   "cell_type": "code",
   "execution_count": null,
   "id": "cd1dfea3-55cf-4ef6-92ef-c115b8846bed",
   "metadata": {},
   "outputs": [],
   "source": [
    "slice_name = \"native-gcp-lzhang9\""
   ]
  },
  {
   "cell_type": "code",
   "execution_count": null,
   "id": "a5465749-e292-4de1-a73e-6377adb9e9d9",
   "metadata": {},
   "outputs": [],
   "source": [
    "try:\n",
    "    slice = fablib.get_slice(name=slice_name)\n",
    "    slice.show()\n",
    "    slice.list_nodes()\n",
    "    slice.list_networks()\n",
    "    slice.list_interfaces()\n",
    "except Exception as e:\n",
    "    print(f\"Exception: {e}\")"
   ]
  },
  {
   "cell_type": "markdown",
   "id": "60eee875-942d-4653-b80d-4de6e65e19d3",
   "metadata": {},
   "source": [
    "## Delete the Slice\n",
    "\n",
    "Please delete your slice when you are done with your experiment."
   ]
  },
  {
   "cell_type": "code",
   "execution_count": null,
   "id": "cf9de91d-7045-4b07-ba7d-1c7eae1c0f17",
   "metadata": {},
   "outputs": [],
   "source": [
    "try:\n",
    "    slice = fablib.get_slice(name=slice_name)\n",
    "    slice.delete()\n",
    "except Exception as e:\n",
    "    print(f\"Exception: {e}\")"
   ]
  }
 ],
 "metadata": {
  "kernelspec": {
   "display_name": "Python 3 (ipykernel)",
   "language": "python",
   "name": "python3"
  },
  "language_info": {
   "codemirror_mode": {
    "name": "ipython",
    "version": 3
   },
   "file_extension": ".py",
   "mimetype": "text/x-python",
   "name": "python",
   "nbconvert_exporter": "python",
   "pygments_lexer": "ipython3",
   "version": "3.9.18"
  }
 },
 "nbformat": 4,
 "nbformat_minor": 5
}
