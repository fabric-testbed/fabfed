{
 "cells": [
  {
   "cell_type": "markdown",
   "id": "4ed9aa05-01b2-4a98-9992-acd8f38615e2",
   "metadata": {},
   "source": [
    "# Cloudlab + Fabric\n",
    "Stitching Cloudlab and Fabric resources using FabFed library."
   ]
  },
  {
   "cell_type": "markdown",
   "id": "d644302e-f1a2-452c-a252-a30e6a579d05",
   "metadata": {},
   "source": [
    "## Install Dependencies"
   ]
  },
  {
   "cell_type": "code",
   "execution_count": null,
   "id": "44e7c5f5-74e5-4ad8-ac54-eafe859e36a6",
   "metadata": {},
   "outputs": [],
   "source": [
    "!pip install git+https://gitlab.flux.utah.edu/stoller/portal-tools.git"
   ]
  },
  {
   "cell_type": "markdown",
   "id": "cfe860e3-340c-4d54-8ce7-c883e00486a1",
   "metadata": {},
   "source": [
    "## Assign session name and .fab path"
   ]
  },
  {
   "cell_type": "code",
   "execution_count": null,
   "id": "d8efd310-300a-4f56-bb26-5431bdec3969",
   "metadata": {},
   "outputs": [],
   "source": [
    "import os\n",
    "\n",
    "session_name = \"cloudlab-lzhang9-lib\"\n",
    "#fab_file_path = os.path.dirname(os.getcwd()) + \"/examples/cloudlab\"\n",
    "fab_file_path = \"./examples/cloudlab\"\n",
    "\n",
    "print(session_name)\n",
    "print(fab_file_path)"
   ]
  },
  {
   "cell_type": "markdown",
   "id": "a6e6acf4-b348-4e08-9808-896f794bb01d",
   "metadata": {},
   "source": [
    "## Import FabFeb library"
   ]
  },
  {
   "cell_type": "code",
   "execution_count": null,
   "id": "83e8b131-3f19-474f-a73b-33788a6ac2a2",
   "metadata": {},
   "outputs": [],
   "source": [
    "try:\n",
    "    from fabfed.fabfed_manager import FabfedManager\n",
    "except Exception as e:\n",
    "    print(f\"Error: {e}\")\n",
    "    \n",
    "print(\"Complete!\")"
   ]
  },
  {
   "cell_type": "markdown",
   "id": "71f1c05a-cdda-4a6a-9d8b-0479fcc25b98",
   "metadata": {},
   "source": [
    "## Validate .fab files"
   ]
  },
  {
   "cell_type": "code",
   "execution_count": null,
   "id": "3e608892-5673-4bf7-99df-981bfee99ba6",
   "metadata": {},
   "outputs": [],
   "source": [
    "try:\n",
    "    fabfed_manager = FabfedManager(config_dir=fab_file_path)\n",
    "    fabfed_manager.validate()\n",
    "except Exception as e:\n",
    "    print(f\"Error: {e}\")\n",
    "    \n",
    "print(\"Complete!\")"
   ]
  },
  {
   "cell_type": "markdown",
   "id": "4e1aa491-7ddc-491b-82f6-ec9d41b08c3a",
   "metadata": {},
   "source": [
    "## Stitching information"
   ]
  },
  {
   "cell_type": "code",
   "execution_count": null,
   "id": "2b4e6db0-d789-4c7d-bf30-556b9f2b8e24",
   "metadata": {},
   "outputs": [],
   "source": [
    "try:\n",
    "    fabfed_manager.stitch_info(session=session_name)\n",
    "except Exception as e:\n",
    "    print(f\"Error: {e}\")\n",
    "\n",
    "print(\"Complete!\")"
   ]
  },
  {
   "cell_type": "markdown",
   "id": "061cfe97-f32f-4b24-9a80-85593ca87d4c",
   "metadata": {},
   "source": [
    "## List resources for creation and deletion"
   ]
  },
  {
   "cell_type": "code",
   "execution_count": null,
   "id": "34bc3815-3246-42b7-b661-10e4695ac928",
   "metadata": {},
   "outputs": [],
   "source": [
    "try:\n",
    "    to_be_created_count, to_be_deleted_count = fabfed_manager.plan(session=session_name)\n",
    "except Exception as e:\n",
    "    print(\"Error: {e}\")\n",
    "\n",
    "print(\"\\n=== Total ===\")\n",
    "print(f\"to_be_created: {to_be_created_count}\")\n",
    "print(f\"to_be_deleted: {to_be_deleted_count}\")"
   ]
  },
  {
   "cell_type": "markdown",
   "id": "78419199-2802-481e-b0c8-08b362f658e1",
   "metadata": {},
   "source": [
    "## Create resources"
   ]
  },
  {
   "cell_type": "code",
   "execution_count": null,
   "id": "30acfbf9-a3bc-4d54-9c52-a408be59d9c1",
   "metadata": {},
   "outputs": [],
   "source": [
    "try:\n",
    "    status_code = fabfed_manager.apply(session=session_name)\n",
    "except Exception as e:\n",
    "    print(f\"Error: {e}\")\n",
    "\n",
    "print(\"Complete!\")"
   ]
  },
  {
   "cell_type": "markdown",
   "id": "1ddb719e-caf7-4973-b7c8-f42417aa4202",
   "metadata": {},
   "source": [
    "## Show sessions"
   ]
  },
  {
   "cell_type": "code",
   "execution_count": null,
   "id": "8142c79c-3d88-4fe9-b5ec-c9d296607007",
   "metadata": {},
   "outputs": [],
   "source": [
    "fabfed_manager.show(session=session_name)\n",
    "fabfed_manager.show_sessions()"
   ]
  },
  {
   "cell_type": "markdown",
   "id": "ab33e762-ad89-49ce-9b09-ceb79797ec78",
   "metadata": {},
   "source": [
    "## Delete all resources"
   ]
  },
  {
   "cell_type": "code",
   "execution_count": null,
   "id": "bc2c921a-4f27-470a-ac8b-a7c957559b2d",
   "metadata": {},
   "outputs": [],
   "source": [
    "try:\n",
    "    fabfed_manager.destroy(session=session_name)\n",
    "except Exception as e:\n",
    "    print(f\"Error: {e}\")\n",
    "\n",
    "print(\"Complete!\")"
   ]
  }
 ],
 "metadata": {
  "kernelspec": {
   "display_name": "Python 3 (ipykernel)",
   "language": "python",
   "name": "python3"
  },
  "language_info": {
   "codemirror_mode": {
    "name": "ipython",
    "version": 3
   },
   "file_extension": ".py",
   "mimetype": "text/x-python",
   "name": "python",
   "nbconvert_exporter": "python",
   "pygments_lexer": "ipython3",
   "version": "3.9.18"
  }
 },
 "nbformat": 4,
 "nbformat_minor": 5
}
