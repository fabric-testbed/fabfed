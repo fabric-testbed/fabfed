{
 "cells": [
  {
   "cell_type": "markdown",
   "id": "4ed9aa05-01b2-4a98-9992-acd8f38615e2",
   "metadata": {},
   "source": [
    "# Chameleon + Fabric\n",
    "Stitching Chameleon and Fabric resources using FabFed library."
   ]
  },
  {
   "cell_type": "markdown",
   "id": "cfe860e3-340c-4d54-8ce7-c883e00486a1",
   "metadata": {},
   "source": [
    "## Assign session name and .fab path"
   ]
  },
  {
   "cell_type": "code",
   "execution_count": null,
   "id": "d8efd310-300a-4f56-bb26-5431bdec3969",
   "metadata": {},
   "outputs": [],
   "source": [
    "import os\n",
    "\n",
    "session_name = \"chameleon-demo-lib\"\n",
    "#fab_file_path = os.path.dirname(os.getcwd()) + \"/examples/aws\"\n",
    "fab_file_path = \"./examples/chameleon/star\"\n",
    "\n",
    "print(session_name)\n",
    "print(fab_file_path)"
   ]
  },
  {
   "cell_type": "markdown",
   "id": "a6e6acf4-b348-4e08-9808-896f794bb01d",
   "metadata": {},
   "source": [
    "## Import FabFeb library"
   ]
  },
  {
   "cell_type": "code",
   "execution_count": null,
   "id": "79a3a114-3c67-4a79-a6fb-8227b64dc429",
   "metadata": {},
   "outputs": [],
   "source": [
    "try:\n",
    "    from fabfed.fabfed_manager import FabfedManager\n",
    "except Exception as e:\n",
    "    print(f\"Error: {e}\")\n",
    "else:\n",
    "    print(\"Succeed!\")"
   ]
  },
  {
   "cell_type": "markdown",
   "id": "f65f8bad-eadc-4df4-8d13-693ea129003a",
   "metadata": {},
   "source": [
    "## Show availabe stitch ports"
   ]
  },
  {
   "cell_type": "code",
   "execution_count": null,
   "id": "315ed071-8f06-47e8-943d-e90748c0cb6b",
   "metadata": {},
   "outputs": [],
   "source": [
    "try:\n",
    "    fabfed_manager = FabfedManager(config_dir=fab_file_path)\n",
    "    fabfed_manager.show_available_stitch_ports(from_provider='chi', to_provider=\"fabric\")\n",
    "except Exception as e:\n",
    "    print(f\"Error: {e}\")"
   ]
  },
  {
   "cell_type": "markdown",
   "id": "73a535d1-4f1a-4606-b4a4-128c675255db",
   "metadata": {},
   "source": [
    "## Validate .fab files"
   ]
  },
  {
   "cell_type": "code",
   "execution_count": null,
   "id": "ce52aa52-99af-4391-bb42-3ab5a9554b9a",
   "metadata": {},
   "outputs": [],
   "source": [
    "try:\n",
    "    config = fabfed_manager.validate()\n",
    "except Exception as e:\n",
    "    print(f\"Error: {f}\")\n",
    "else:\n",
    "    print(\"Succeed!\")"
   ]
  },
  {
   "cell_type": "markdown",
   "id": "e9ca58ea-dbc2-42b4-a0eb-a560f023a210",
   "metadata": {},
   "source": [
    "## Show the order of handling resources"
   ]
  },
  {
   "cell_type": "code",
   "execution_count": null,
   "id": "7834d64f-44d1-4cb1-8708-4038d601153d",
   "metadata": {},
   "outputs": [],
   "source": [
    "for resource_config in config.resource_configs:\n",
    "    dependencies = []\n",
    "    for dependency in resource_config.dependencies:\n",
    "        dependencies.append(dependency.resource)\n",
    "    print(resource_config.label, \"depends on \", dependencies)"
   ]
  },
  {
   "cell_type": "markdown",
   "id": "f6106b4e-076f-4349-b215-c6db497c97a9",
   "metadata": {},
   "source": [
    "## Stitching information"
   ]
  },
  {
   "cell_type": "code",
   "execution_count": null,
   "id": "ba75ff1a-7442-4e05-a4ca-b1128397983e",
   "metadata": {},
   "outputs": [],
   "source": [
    "try:\n",
    "    fabfed_manager.stitch_info(session=session_name)\n",
    "except Exception as e:\n",
    "    print(f\"Error: {e}\")"
   ]
  },
  {
   "cell_type": "markdown",
   "id": "c87f8329-054e-45f3-9d69-3c4acc25252f",
   "metadata": {},
   "source": [
    "## List resources for creation and deletion"
   ]
  },
  {
   "cell_type": "code",
   "execution_count": null,
   "id": "5d161b4f-4b6b-4993-80d3-26f59034c2cb",
   "metadata": {},
   "outputs": [],
   "source": [
    "try:\n",
    "    to_be_created_count, to_be_deleted_count = fabfed_manager.plan(session=session_name)\n",
    "except Exception as e:\n",
    "    print(\"Error: {e}\")\n",
    "\n",
    "print(\"\\n=== Total ===\")\n",
    "print(f\"to_be_created: {to_be_created_count}\")\n",
    "print(f\"to_be_deleted: {to_be_deleted_count}\")"
   ]
  },
  {
   "cell_type": "markdown",
   "id": "4e1aa491-7ddc-491b-82f6-ec9d41b08c3a",
   "metadata": {},
   "source": [
    "## Create resources"
   ]
  },
  {
   "cell_type": "code",
   "execution_count": null,
   "id": "7da5efbb-0c83-4842-b533-c81340028013",
   "metadata": {},
   "outputs": [],
   "source": [
    "try:\n",
    "    status_code = fabfed_manager.apply(session=session_name)\n",
    "except Exception as e:\n",
    "    print(f\"Error: {e}\")"
   ]
  },
  {
   "cell_type": "markdown",
   "id": "beee11c5-5adc-4756-8133-a8eda0253969",
   "metadata": {},
   "source": [
    "## Show session state"
   ]
  },
  {
   "cell_type": "code",
   "execution_count": null,
   "id": "9ca3360b-c033-4af8-9f1d-0acf12b1c0d0",
   "metadata": {},
   "outputs": [],
   "source": [
    "fabfed_manager.show(session=session_name)"
   ]
  },
  {
   "cell_type": "markdown",
   "id": "8c2d5e44-4789-4254-8b7a-8cc656ac4a0f",
   "metadata": {},
   "source": [
    "## Show all sessions"
   ]
  },
  {
   "cell_type": "code",
   "execution_count": null,
   "id": "e0ad9df6-7cea-4a69-8342-978c92864f68",
   "metadata": {},
   "outputs": [],
   "source": [
    "fabfed_manager.show_sessions()"
   ]
  },
  {
   "cell_type": "markdown",
   "id": "ab33e762-ad89-49ce-9b09-ceb79797ec78",
   "metadata": {},
   "source": [
    "## Delete all resources"
   ]
  },
  {
   "cell_type": "code",
   "execution_count": null,
   "id": "bc2c921a-4f27-470a-ac8b-a7c957559b2d",
   "metadata": {},
   "outputs": [],
   "source": [
    "try:\n",
    "    fabfed_manager.destroy(session=session_name)\n",
    "except Exception as e:\n",
    "    print(f\"Error: {e}\")"
   ]
  },
  {
   "cell_type": "markdown",
   "id": "294f4277-e3c1-483a-8c5f-127d338fccc3",
   "metadata": {},
   "source": [
    "## Show sesstion state"
   ]
  },
  {
   "cell_type": "code",
   "execution_count": null,
   "id": "f590433f-abfe-413d-b119-01451752746a",
   "metadata": {},
   "outputs": [],
   "source": [
    "fabfed_manager.show(session=session_name)"
   ]
  },
  {
   "cell_type": "markdown",
   "id": "4650151a-0c2e-4f47-9c15-25efdf25bc78",
   "metadata": {},
   "source": [
    "##  Show all sessions"
   ]
  },
  {
   "cell_type": "code",
   "execution_count": null,
   "id": "061f76ee-282c-4b6b-a430-16226b477716",
   "metadata": {},
   "outputs": [],
   "source": [
    "fabfed_manager.show_sessions()"
   ]
  }
 ],
 "metadata": {
  "kernelspec": {
   "display_name": "Python 3 (ipykernel)",
   "language": "python",
   "name": "python3"
  },
  "language_info": {
   "codemirror_mode": {
    "name": "ipython",
    "version": 3
   },
   "file_extension": ".py",
   "mimetype": "text/x-python",
   "name": "python",
   "nbconvert_exporter": "python",
   "pygments_lexer": "ipython3",
   "version": "3.9.18"
  }
 },
 "nbformat": 4,
 "nbformat_minor": 5
}
