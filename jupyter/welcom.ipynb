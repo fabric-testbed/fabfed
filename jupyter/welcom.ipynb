{
 "cells": [
  {
   "cell_type": "markdown",
   "id": "f03b798d-387a-49e7-bc74-8306b8b3cbfc",
   "metadata": {},
   "source": [
    "# Welcome to FabFed\n",
    "The following script outlines the steps involved in utilizing the FABFED toolkit."
   ]
  },
  {
   "cell_type": "markdown",
   "id": "5922d7e6-6074-4847-ad98-7c2947212a94",
   "metadata": {},
   "source": [
    "## Installation\n",
    "Please install the most recent version available on PyPI.\n",
    "\n",
    "NOTE: To access the developmental version, install it from the source via Terminal.\n",
    "- git clone https://github.com/fabric-testbed/fabfed\n",
    "- cd fabfed\n",
    "- pip install -r requirements.txt\n",
    "- pip install -e ."
   ]
  },
  {
   "cell_type": "code",
   "execution_count": null,
   "id": "6f7d9a55-9eaf-45e4-b950-c73f92053f71",
   "metadata": {},
   "outputs": [],
   "source": [
    "!pip install --upgrade fabfed-py --quiet\n",
    "\n",
    "!pip show fabfed-py"
   ]
  },
  {
   "cell_type": "markdown",
   "id": "c438d0ec-978c-4db6-ab61-f125b72de776",
   "metadata": {},
   "source": [
    "## Credential Configuration\n",
    "The Fabfed credential file is a YAML file that contains account information and keying material for each provider using sections aka profiles. Please create your credential file using the provided template within the directory <span style=\"color:brown; font-style:italic;\">fabfed_config</span>.\n",
    "\n",
    "### Create the credential file if it does not exist"
   ]
  },
  {
   "cell_type": "code",
   "execution_count": null,
   "id": "dd5c21d0-d8d7-49e1-bc59-15004613ac20",
   "metadata": {},
   "outputs": [],
   "source": [
    "import os\n",
    "\n",
    "file_path = 'fabfed_config/fabfed_credentials.yml'\n",
    "\n",
    "if os.path.exists(file_path):\n",
    "    print(\"The file exists.\")\n",
    "else:\n",
    "    print(\"The file does not exist.\")\n",
    "    import shutil\n",
    "    #source_file = 'fabfed_config/fabfed_credentials_template.yml'\n",
    "    source_file = '/users/lzhang9/.fabfed/fabfed_credentials.yml'\n",
    "    destination_file = 'fabfed_config/fabfed_credentials.yml'\n",
    "    shutil.copy(source_file, destination_file)\n",
    "    print(\"File copied successfully from\", source_file, \"to\", destination_file)"
   ]
  },
  {
   "cell_type": "markdown",
   "id": "c57ff496-8ef7-4bea-82d6-5cd22596e467",
   "metadata": {},
   "source": [
    "### Edit credentials in [credential file](./fabfed_config/fabfed_credentials.yml) if needed"
   ]
  },
  {
   "cell_type": "code",
   "execution_count": null,
   "id": "779c81b2-3260-4222-be63-7084cc386133",
   "metadata": {},
   "outputs": [],
   "source": [
    "!cat $file_path"
   ]
  },
  {
   "cell_type": "markdown",
   "id": "8127923d-a615-4472-981a-fc20d01aca35",
   "metadata": {},
   "source": [
    "## Examples of Stitching Workflows\n",
    "Examples of stitching different provider resources:\n",
    "\n",
    "- [Native aws](./native-aws.ipynb): Stiching native AWS and Fabric\n",
    "- [Native gcp](./native-gcp.ipynb): Stiching native GCP and Fabric\n",
    "- [SENSE aws](./sense-aws.ipynb): Stiching SENSE AWS and Fabric\n",
    "- [SENSE gcp](./sense-gcp.ipynb): Stiching SENSE GCP and Fabric\n",
    "- [Cloudlab](./cloudlab.ipynb): Stiching Cloudlab and Fabric\n",
    "- [Chameleon](./chameleon.ipynb): Stiching Chameleon and Fabric"
   ]
  },
  {
   "cell_type": "markdown",
   "id": "ed522844-efde-4b84-b65e-4cd263f0efeb",
   "metadata": {},
   "source": [
    "## Tools\n",
    "Collection of utility tools for monitoring resources\n",
    "- [fablib](./fablib-tools.ipynb): Utilities of fablib to manage Fabric slices."
   ]
  }
 ],
 "metadata": {
  "kernelspec": {
   "display_name": "Python 3 (ipykernel)",
   "language": "python",
   "name": "python3"
  },
  "language_info": {
   "codemirror_mode": {
    "name": "ipython",
    "version": 3
   },
   "file_extension": ".py",
   "mimetype": "text/x-python",
   "name": "python",
   "nbconvert_exporter": "python",
   "pygments_lexer": "ipython3",
   "version": "3.9.18"
  }
 },
 "nbformat": 4,
 "nbformat_minor": 5
}
