{
 "cells": [
  {
   "cell_type": "markdown",
   "id": "4ed9aa05-01b2-4a98-9992-acd8f38615e2",
   "metadata": {},
   "source": [
    "# SENSE AWS + Fabric\n",
    "Stitching SENSE AWS and Fabric resources."
   ]
  },
  {
   "cell_type": "markdown",
   "id": "cfe860e3-340c-4d54-8ce7-c883e00486a1",
   "metadata": {},
   "source": [
    "## Assign session name and .fab path"
   ]
  },
  {
   "cell_type": "code",
   "execution_count": null,
   "id": "d8efd310-300a-4f56-bb26-5431bdec3969",
   "metadata": {},
   "outputs": [],
   "source": [
    "import os\n",
    "\n",
    "session_name = \"sense-aws-lzhang9\"\n",
    "#fab_file_path = os.path.dirname(os.getcwd()) + \"/examples/aws\"\n",
    "fab_file_path = \"./examples/sense-aws\"\n",
    "\n",
    "print(session_name)\n",
    "print(fab_file_path)"
   ]
  },
  {
   "cell_type": "markdown",
   "id": "1d63bdfb-177e-4dd0-bdfb-091c0f84f476",
   "metadata": {},
   "source": [
    "## Validate .fab files"
   ]
  },
  {
   "cell_type": "code",
   "execution_count": null,
   "id": "72148135-c66f-41ed-9a36-b037c7fbb966",
   "metadata": {},
   "outputs": [],
   "source": [
    "!fabfed workflow -s $session_name -c $fab_file_path -validate"
   ]
  },
  {
   "cell_type": "markdown",
   "id": "2df23e14-492c-44be-9cc8-e4e041f0bead",
   "metadata": {},
   "source": [
    "## Add resources to providers and validate resources"
   ]
  },
  {
   "cell_type": "code",
   "execution_count": null,
   "id": "0aa67fe6-34b4-4a20-b9b3-a5fb6921efd2",
   "metadata": {},
   "outputs": [],
   "source": [
    "!fabfed workflow -s $session_name -c $fab_file_path -plan"
   ]
  },
  {
   "cell_type": "markdown",
   "id": "c29bf401-66d9-4b8b-9c68-fd2ebbd85ee2",
   "metadata": {},
   "source": [
    "## View stitching information"
   ]
  },
  {
   "cell_type": "code",
   "execution_count": null,
   "id": "9d3324c9-004e-4c29-b768-08b2de294ed3",
   "metadata": {},
   "outputs": [],
   "source": [
    "!fabfed workflow -s $session_name -c $fab_file_path -init -summary"
   ]
  },
  {
   "cell_type": "markdown",
   "id": "d19fef3d-2d37-4ffc-8f8f-07446bc5a484",
   "metadata": {},
   "source": [
    "## Create resources"
   ]
  },
  {
   "cell_type": "code",
   "execution_count": null,
   "id": "e5e16ead-338b-4e3c-9e38-61203a2489f4",
   "metadata": {
    "scrolled": true
   },
   "outputs": [],
   "source": [
    "!fabfed workflow -s $session_name -c $fab_file_path -apply"
   ]
  },
  {
   "cell_type": "markdown",
   "id": "f5a08986-10f1-478d-9460-c0c5c67f23d1",
   "metadata": {},
   "source": [
    "## View the state of the workflow"
   ]
  },
  {
   "cell_type": "code",
   "execution_count": null,
   "id": "1dfdcf82-03c0-42a7-8fd0-78a04ed1e0fe",
   "metadata": {},
   "outputs": [],
   "source": [
    "!fabfed workflow -s $session_name -c $fab_file_path -show"
   ]
  },
  {
   "cell_type": "markdown",
   "id": "ab33e762-ad89-49ce-9b09-ceb79797ec78",
   "metadata": {},
   "source": [
    "## Delete all resources"
   ]
  },
  {
   "cell_type": "code",
   "execution_count": null,
   "id": "57305ac9-fa7e-4578-a200-ecdcb74a2a4c",
   "metadata": {},
   "outputs": [],
   "source": [
    "!fabfed workflow -s $session_name -c $fab_file_path -destroy"
   ]
  },
  {
   "cell_type": "markdown",
   "id": "138944ac-3892-41e2-a9cc-2c59383b5d63",
   "metadata": {},
   "source": [
    "## Note: Amazon Instance Info\n",
    "- EC2/Instances/i-078a7be6f4a3df5d6\n",
    "- Private IPv4 10.0.1.106\n",
    "- Public IPv4 54.242.87.34"
   ]
  }
 ],
 "metadata": {
  "kernelspec": {
   "display_name": "Python 3 (ipykernel)",
   "language": "python",
   "name": "python3"
  },
  "language_info": {
   "codemirror_mode": {
    "name": "ipython",
    "version": 3
   },
   "file_extension": ".py",
   "mimetype": "text/x-python",
   "name": "python",
   "nbconvert_exporter": "python",
   "pygments_lexer": "ipython3",
   "version": "3.9.18"
  }
 },
 "nbformat": 4,
 "nbformat_minor": 5
}
