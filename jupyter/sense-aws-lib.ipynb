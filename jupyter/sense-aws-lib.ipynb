{
 "cells": [
  {
   "cell_type": "markdown",
   "id": "4ed9aa05-01b2-4a98-9992-acd8f38615e2",
   "metadata": {},
   "source": [
    "# SENSE AWS + Fabric\n",
    "Stitching SENSE AWS and Fabric resources using FabFed library."
   ]
  },
  {
   "cell_type": "markdown",
   "id": "cfe860e3-340c-4d54-8ce7-c883e00486a1",
   "metadata": {},
   "source": [
    "## Assign session name and .fab path"
   ]
  },
  {
   "cell_type": "code",
   "execution_count": null,
   "id": "d8efd310-300a-4f56-bb26-5431bdec3969",
   "metadata": {},
   "outputs": [],
   "source": [
    "import os\n",
    "\n",
    "session_name = \"sense-aws-demo-lib\"\n",
    "#fab_file_path = os.path.dirname(os.getcwd()) + \"/examples/aws\"\n",
    "fab_file_path = \"./examples/sense-aws\"\n",
    "\n",
    "print(session_name)\n",
    "print(fab_file_path)"
   ]
  },
  {
   "cell_type": "markdown",
   "id": "a6e6acf4-b348-4e08-9808-896f794bb01d",
   "metadata": {},
   "source": [
    "## Import FabFeb library"
   ]
  },
  {
   "cell_type": "code",
   "execution_count": null,
   "id": "79a3a114-3c67-4a79-a6fb-8227b64dc429",
   "metadata": {},
   "outputs": [],
   "source": [
    "try:\n",
    "    from fabfed.fabfed_manager import FabfedManager\n",
    "except Exception as e:\n",
    "    print(f\"Error: {e}\")\n",
    "else:\n",
    "    print(\"Succeed!\")"
   ]
  },
  {
   "cell_type": "markdown",
   "id": "73a535d1-4f1a-4606-b4a4-128c675255db",
   "metadata": {},
   "source": [
    "## Show availabe stitch ports"
   ]
  },
  {
   "cell_type": "code",
   "execution_count": null,
   "id": "ce52aa52-99af-4391-bb42-3ab5a9554b9a",
   "metadata": {},
   "outputs": [],
   "source": [
    "try:\n",
    "    fabfed_manager = FabfedManager(config_dir=fab_file_path)\n",
    "    fabfed_manager.show_available_stitch_ports(from_provider='sense', to_provider=\"fabric\")\n",
    "except Exception as e:\n",
    "    print(f\"Error: {e}\")"
   ]
  },
  {
   "cell_type": "markdown",
   "id": "f6106b4e-076f-4349-b215-c6db497c97a9",
   "metadata": {},
   "source": [
    "## Validate .fab files"
   ]
  },
  {
   "cell_type": "code",
   "execution_count": null,
   "id": "ba75ff1a-7442-4e05-a4ca-b1128397983e",
   "metadata": {},
   "outputs": [],
   "source": [
    "try:\n",
    "    config = fabfed_manager.validate()\n",
    "except Exception as e:\n",
    "    print(f\"Error: {e}\")\n",
    "else:\n",
    "    print(\"Succeed!\")"
   ]
  },
  {
   "cell_type": "markdown",
   "id": "c87f8329-054e-45f3-9d69-3c4acc25252f",
   "metadata": {},
   "source": [
    "## Show the order of handling resources"
   ]
  },
  {
   "cell_type": "code",
   "execution_count": null,
   "id": "5d161b4f-4b6b-4993-80d3-26f59034c2cb",
   "metadata": {},
   "outputs": [],
   "source": [
    "for resource_config in config.resource_configs:\n",
    "    dependencies = []\n",
    "    for dependency in resource_config.dependencies:\n",
    "        dependencies.append(dependency.resource)\n",
    "    print(resource_config.label, \"depends on \", dependencies)"
   ]
  },
  {
   "cell_type": "markdown",
   "id": "4e1aa491-7ddc-491b-82f6-ec9d41b08c3a",
   "metadata": {},
   "source": [
    "## Stitching information"
   ]
  },
  {
   "cell_type": "code",
   "execution_count": null,
   "id": "7da5efbb-0c83-4842-b533-c81340028013",
   "metadata": {},
   "outputs": [],
   "source": [
    "try:\n",
    "    fabfed_manager.stitch_info(session=session_name)\n",
    "except Exception as e:\n",
    "    print(f\"Error: {e}\")"
   ]
  },
  {
   "cell_type": "markdown",
   "id": "465ea762-1e62-4532-a0e3-aa5bef0e23c4",
   "metadata": {},
   "source": [
    "## List resources for creation and deletion"
   ]
  },
  {
   "cell_type": "code",
   "execution_count": null,
   "id": "f8ae4d51-a812-4d80-997c-11c7ef5548a2",
   "metadata": {},
   "outputs": [],
   "source": [
    "try:\n",
    "    to_be_created_count, to_be_deleted_count = fabfed_manager.plan(session=session_name)\n",
    "except Exception as e:\n",
    "    print(\"Error: {e}\")\n",
    "\n",
    "print(\"\\n=== Total ===\")\n",
    "print(f\"to_be_created: {to_be_created_count}\")\n",
    "print(f\"to_be_deleted: {to_be_deleted_count}\")"
   ]
  },
  {
   "cell_type": "markdown",
   "id": "78419199-2802-481e-b0c8-08b362f658e1",
   "metadata": {},
   "source": [
    "## Create resources"
   ]
  },
  {
   "cell_type": "code",
   "execution_count": null,
   "id": "4db644c5-b7d5-4092-8329-cca89a13aef6",
   "metadata": {},
   "outputs": [],
   "source": [
    "try:\n",
    "    status_code = fabfed_manager.apply(session=session_name)\n",
    "except Exception as e:\n",
    "    print(f\"Error: {e}\")"
   ]
  },
  {
   "cell_type": "markdown",
   "id": "beee11c5-5adc-4756-8133-a8eda0253969",
   "metadata": {},
   "source": [
    "## Show session state"
   ]
  },
  {
   "cell_type": "code",
   "execution_count": null,
   "id": "9ca3360b-c033-4af8-9f1d-0acf12b1c0d0",
   "metadata": {},
   "outputs": [],
   "source": [
    "fabfed_manager.show(session=session_name)"
   ]
  },
  {
   "cell_type": "markdown",
   "id": "f5a08986-10f1-478d-9460-c0c5c67f23d1",
   "metadata": {},
   "source": [
    "## Show all sessions"
   ]
  },
  {
   "cell_type": "code",
   "execution_count": null,
   "id": "1dfdcf82-03c0-42a7-8fd0-78a04ed1e0fe",
   "metadata": {},
   "outputs": [],
   "source": [
    "fabfed_manager.show_sessions()"
   ]
  },
  {
   "cell_type": "markdown",
   "id": "ab33e762-ad89-49ce-9b09-ceb79797ec78",
   "metadata": {},
   "source": [
    "## Delete all resources"
   ]
  },
  {
   "cell_type": "code",
   "execution_count": null,
   "id": "bc2c921a-4f27-470a-ac8b-a7c957559b2d",
   "metadata": {},
   "outputs": [],
   "source": [
    "try:\n",
    "    fabfed_manager.destroy(session=session_name)\n",
    "except Exception as e:\n",
    "    print(f\"Error: {e}\")"
   ]
  },
  {
   "cell_type": "markdown",
   "id": "d3724202-8b2d-445e-bdd7-b8923b15b1a3",
   "metadata": {},
   "source": [
    "## Show sesstion state"
   ]
  },
  {
   "cell_type": "code",
   "execution_count": null,
   "id": "8b31f04e-ea4d-422f-ab03-fe6bf63cbfc0",
   "metadata": {},
   "outputs": [],
   "source": [
    "fabfed_manager.show(session=session_name)"
   ]
  },
  {
   "cell_type": "markdown",
   "id": "673e6f8c-7a87-4b3c-84f5-5fbc8942e578",
   "metadata": {},
   "source": [
    "##  Show all sessions"
   ]
  },
  {
   "cell_type": "code",
   "execution_count": null,
   "id": "0bbbe8f8-75fb-48d0-880c-7c584fee9c40",
   "metadata": {},
   "outputs": [],
   "source": [
    "fabfed_manager.show_sessions()"
   ]
  },
  {
   "cell_type": "markdown",
   "id": "366bbf7f-4d16-4aa4-8845-18edb4c389a6",
   "metadata": {},
   "source": [
    "## Note: Amazon Instance Info\n",
    "\n",
    "- EC2/Instances/i-078a7be6f4a3df5d6\n",
    "- Private IPv4 10.0.1.106\n",
    "- Public IPv4 54.242.87.34"
   ]
  }
 ],
 "metadata": {
  "kernelspec": {
   "display_name": "Python 3 (ipykernel)",
   "language": "python",
   "name": "python3"
  },
  "language_info": {
   "codemirror_mode": {
    "name": "ipython",
    "version": 3
   },
   "file_extension": ".py",
   "mimetype": "text/x-python",
   "name": "python",
   "nbconvert_exporter": "python",
   "pygments_lexer": "ipython3",
   "version": "3.9.18"
  }
 },
 "nbformat": 4,
 "nbformat_minor": 5
}
