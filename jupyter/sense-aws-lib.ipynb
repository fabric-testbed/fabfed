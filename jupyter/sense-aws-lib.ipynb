{
 "cells": [
  {
   "cell_type": "markdown",
   "id": "4ed9aa05-01b2-4a98-9992-acd8f38615e2",
   "metadata": {},
   "source": [
    "# SENSE AWS + Fabric\n",
    "Stitching SENSE AWS and Fabric resources using FabFed library."
   ]
  },
  {
   "cell_type": "markdown",
   "id": "cfe860e3-340c-4d54-8ce7-c883e00486a1",
   "metadata": {},
   "source": [
    "## Assign session name and .fab path"
   ]
  },
  {
   "cell_type": "code",
   "execution_count": null,
   "id": "d8efd310-300a-4f56-bb26-5431bdec3969",
   "metadata": {},
   "outputs": [],
   "source": [
    "import os\n",
    "\n",
    "session_name = \"sense-aws-lzhang9-lib\"\n",
    "#fab_file_path = os.path.dirname(os.getcwd()) + \"/examples/aws\"\n",
    "fab_file_path = \"./examples/sense-aws\"\n",
    "\n",
    "print(session_name)\n",
    "print(fab_file_path)"
   ]
  },
  {
   "cell_type": "markdown",
   "id": "a6e6acf4-b348-4e08-9808-896f794bb01d",
   "metadata": {},
   "source": [
    "## Import FabFeb library"
   ]
  },
  {
   "cell_type": "code",
   "execution_count": null,
   "id": "79a3a114-3c67-4a79-a6fb-8227b64dc429",
   "metadata": {},
   "outputs": [],
   "source": [
    "from fabfed.util.config import WorkflowConfig\n",
    "from fabfed.util import state as sutil\n",
    "from fabfed.controller.controller import Controller\n",
    "from fabfed.controller.provider_factory import default_provider_factory"
   ]
  },
  {
   "cell_type": "markdown",
   "id": "73a535d1-4f1a-4606-b4a4-128c675255db",
   "metadata": {},
   "source": [
    "## Read .fab files"
   ]
  },
  {
   "cell_type": "code",
   "execution_count": null,
   "id": "ce52aa52-99af-4391-bb42-3ab5a9554b9a",
   "metadata": {},
   "outputs": [],
   "source": [
    "def read_file_to_str(file_path):\n",
    "    try:\n",
    "        with open(file_path, 'r') as file:\n",
    "            file_content = file.read()\n",
    "        return file_content\n",
    "    except FileNotFoundError:\n",
    "        print(f\"File '{file_path}' not found.\")\n",
    "        return None\n",
    "\n",
    "#  Read config.fab to config_str:\n",
    "config_str = read_file_to_str(f\"{fab_file_path}/config.fab\")\n",
    "if config_str:\n",
    "    print(\"File content:\")\n",
    "    print(config_str)\n",
    "\n",
    "print(config_str)"
   ]
  },
  {
   "cell_type": "markdown",
   "id": "f6106b4e-076f-4349-b215-c6db497c97a9",
   "metadata": {},
   "source": [
    "## Create a workflow config object"
   ]
  },
  {
   "cell_type": "code",
   "execution_count": null,
   "id": "ba75ff1a-7442-4e05-a4ca-b1128397983e",
   "metadata": {},
   "outputs": [],
   "source": [
    "config = WorkflowConfig(content=config_str)"
   ]
  },
  {
   "cell_type": "markdown",
   "id": "c87f8329-054e-45f3-9d69-3c4acc25252f",
   "metadata": {},
   "source": [
    "## Create a controller"
   ]
  },
  {
   "cell_type": "code",
   "execution_count": null,
   "id": "5d161b4f-4b6b-4993-80d3-26f59034c2cb",
   "metadata": {},
   "outputs": [],
   "source": [
    "import logging\n",
    "logger = logging.getLogger(__name__)\n",
    "\n",
    "controller = Controller(config=config, logger=logger)"
   ]
  },
  {
   "cell_type": "markdown",
   "id": "4e1aa491-7ddc-491b-82f6-ec9d41b08c3a",
   "metadata": {},
   "source": [
    "## Init stitching information"
   ]
  },
  {
   "cell_type": "code",
   "execution_count": null,
   "id": "7da5efbb-0c83-4842-b533-c81340028013",
   "metadata": {},
   "outputs": [],
   "source": [
    "states = sutil.load_states(session)\n",
    "\n",
    "controller.init(session=session_name, provider_factory=default_provider_factory, provider_states=states)"
   ]
  },
  {
   "cell_type": "markdown",
   "id": "465ea762-1e62-4532-a0e3-aa5bef0e23c4",
   "metadata": {},
   "source": [
    "## Add resources to providers and validate resources"
   ]
  },
  {
   "cell_type": "code",
   "execution_count": null,
   "id": "f8ae4d51-a812-4d80-997c-11c7ef5548a2",
   "metadata": {},
   "outputs": [],
   "source": [
    "controller.plan(provider_states=[])"
   ]
  },
  {
   "cell_type": "code",
   "execution_count": null,
   "id": "7a1a864d-bdd9-4422-84a6-cade3a7c485c",
   "metadata": {},
   "outputs": [],
   "source": [
    "controller.add(provider_states=[])"
   ]
  },
  {
   "cell_type": "markdown",
   "id": "78419199-2802-481e-b0c8-08b362f658e1",
   "metadata": {},
   "source": [
    "## Create resources"
   ]
  },
  {
   "cell_type": "code",
   "execution_count": null,
   "id": "4db644c5-b7d5-4092-8329-cca89a13aef6",
   "metadata": {},
   "outputs": [],
   "source": [
    "try:\n",
    "    controller.apply(provider_states=[])\n",
    "except ControllerException as e:\n",
    "    assert isinstance(e.exceptions[0], DummyFailCreateException)"
   ]
  },
  {
   "cell_type": "markdown",
   "id": "beee11c5-5adc-4756-8133-a8eda0253969",
   "metadata": {},
   "source": [
    "## Save the workflow state"
   ]
  },
  {
   "cell_type": "code",
   "execution_count": null,
   "id": "9ca3360b-c033-4af8-9f1d-0acf12b1c0d0",
   "metadata": {},
   "outputs": [],
   "source": [
    "states = controller.get_states()\n",
    "sutil.save_states(states, session_name)\n",
    "\n",
    "print(states)"
   ]
  },
  {
   "cell_type": "markdown",
   "id": "f5a08986-10f1-478d-9460-c0c5c67f23d1",
   "metadata": {},
   "source": [
    "## View the state of the workflow"
   ]
  },
  {
   "cell_type": "code",
   "execution_count": null,
   "id": "1dfdcf82-03c0-42a7-8fd0-78a04ed1e0fe",
   "metadata": {},
   "outputs": [],
   "source": [
    "states = sutil.load_states(session_name)\n",
    "\n",
    "print(states)"
   ]
  },
  {
   "cell_type": "markdown",
   "id": "ab33e762-ad89-49ce-9b09-ceb79797ec78",
   "metadata": {},
   "source": [
    "## Delete all resources"
   ]
  },
  {
   "cell_type": "code",
   "execution_count": null,
   "id": "bc2c921a-4f27-470a-ac8b-a7c957559b2d",
   "metadata": {},
   "outputs": [],
   "source": [
    "states = sutil.load_states(session_name)\n",
    "\n",
    "controller.destroy(provider_states=states)\n",
    "\n",
    "sutil.save_states(states, session_name)\n",
    "if not states:\n",
    "    sutil.destroy_session(session_name)\n",
    "\n",
    "print(states)"
   ]
  },
  {
   "cell_type": "markdown",
   "id": "366bbf7f-4d16-4aa4-8845-18edb4c389a6",
   "metadata": {},
   "source": [
    "## Note: Amazon Instance Info\n",
    "\n",
    "- EC2/Instances/i-078a7be6f4a3df5d6\n",
    "- Private IPv4 10.0.1.106\n",
    "- Public IPv4 54.242.87.34"
   ]
  }
 ],
 "metadata": {
  "kernelspec": {
   "display_name": "Python 3 (ipykernel)",
   "language": "python",
   "name": "python3"
  },
  "language_info": {
   "codemirror_mode": {
    "name": "ipython",
    "version": 3
   },
   "file_extension": ".py",
   "mimetype": "text/x-python",
   "name": "python",
   "nbconvert_exporter": "python",
   "pygments_lexer": "ipython3",
   "version": "3.9.18"
  }
 },
 "nbformat": 4,
 "nbformat_minor": 5
}
